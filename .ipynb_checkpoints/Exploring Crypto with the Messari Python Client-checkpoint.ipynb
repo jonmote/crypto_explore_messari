{
 "cells": [
  {
   "cell_type": "markdown",
   "metadata": {},
   "source": [
    "### Exploring Crypto with the Messari Python Client\n",
    "\n",
    "This notebook is designed to gather information on a specific crypto for background research (quickly and crudely, at least for the moment). "
   ]
  },
  {
   "cell_type": "code",
   "execution_count": 1,
   "metadata": {},
   "outputs": [],
   "source": [
    "import pandas as pd\n",
    "from messari.messari import Messari\n",
    "messari=Messari('')\n",
    "pd.options.display.width=None\n",
    "from tabulate import tabulate"
   ]
  },
  {
   "cell_type": "markdown",
   "metadata": {},
   "source": [
    "### Getting Asset Data\n",
    "\n",
    "Initially, I want to run through all the options for getting current market data.  "
   ]
  },
  {
   "cell_type": "code",
   "execution_count": 20,
   "metadata": {},
   "outputs": [
    {
     "data": {
      "text/html": [
       "<div>\n",
       "<style scoped>\n",
       "    .dataframe tbody tr th:only-of-type {\n",
       "        vertical-align: middle;\n",
       "    }\n",
       "\n",
       "    .dataframe tbody tr th {\n",
       "        vertical-align: top;\n",
       "    }\n",
       "\n",
       "    .dataframe thead th {\n",
       "        text-align: right;\n",
       "    }\n",
       "</style>\n",
       "<table border=\"1\" class=\"dataframe\">\n",
       "  <thead>\n",
       "    <tr style=\"text-align: right;\">\n",
       "      <th></th>\n",
       "      <th>id</th>\n",
       "      <th>symbol</th>\n",
       "      <th>name</th>\n",
       "      <th>slug</th>\n",
       "      <th>contract_addresses</th>\n",
       "      <th>_internal_temp_agora_id</th>\n",
       "    </tr>\n",
       "  </thead>\n",
       "  <tbody>\n",
       "    <tr>\n",
       "      <td>ravencoin</td>\n",
       "      <td>e36183a0-816a-44c0-8787-9c5912e3beb7</td>\n",
       "      <td>RVN</td>\n",
       "      <td>Ravencoin</td>\n",
       "      <td>ravencoin</td>\n",
       "      <td>None</td>\n",
       "      <td>7b8b1f29-fa22-4cfe-8101-a57e28398146</td>\n",
       "    </tr>\n",
       "  </tbody>\n",
       "</table>\n",
       "</div>"
      ],
      "text/plain": [
       "                                             id symbol       name       slug  \\\n",
       "ravencoin  e36183a0-816a-44c0-8787-9c5912e3beb7    RVN  Ravencoin  ravencoin   \n",
       "\n",
       "          contract_addresses               _internal_temp_agora_id  \n",
       "ravencoin               None  7b8b1f29-fa22-4cfe-8101-a57e28398146  "
      ]
     },
     "execution_count": 20,
     "metadata": {},
     "output_type": "execute_result"
    }
   ],
   "source": [
    "assets = ['ravencoin']\n",
    "asset_metadata = messari.get_asset(asset_slugs=assets)\n",
    "asset_metadata.head()"
   ]
  },
  {
   "cell_type": "markdown",
   "metadata": {},
   "source": [
    "### Overview Profile"
   ]
  },
  {
   "cell_type": "code",
   "execution_count": 21,
   "metadata": {
    "collapsed": true
   },
   "outputs": [
    {
     "name": "stdout",
     "output_type": "stream",
     "text": [
      "                                                                                                                               ravencoin\n",
      "-----------------------------------------------------------------------------------------------------------------------------  ----------------------------------------------------------------------------------------------------------------------------------------------------------------------------------------------------------------------------------------------------------------------------------------------------------------------------------------------------------------------------------------------------------------------------------------------------------------------------------------------------------------------------------------------------------------------------------------------------------------------------------------------------------------------------------------------------------------------------------------------------------------------------------------------------------------------------------------------------------------------------------------------------------------------------------------------------------------------------------------------------------------------------------------------------------------------------------------------------------------------------------------\n",
      "_internal_temp_agora_id                                                                                                        7b8b1f29-fa22-4cfe-8101-a57e28398146\n",
      "contract_addresses\n",
      "id                                                                                                                             e36183a0-816a-44c0-8787-9c5912e3beb7\n",
      "name                                                                                                                           Ravencoin\n",
      "profile_advisors_individuals                                                                                                   []\n",
      "profile_advisors_organizations                                                                                                 []\n",
      "profile_contributors_individuals                                                                                               [{'slug': 'tron-black', 'first_name': 'Tron', 'last_name': 'Black', 'title': 'Lead Developer at Ravencoin', 'description': None, 'avatar_url': 'https://messari.s3.amazonaws.com/images/agora-images/0%3Fe%3D1579132800%26v%3Dbeta%26t%3DfONCTnuxDVA1WAQJxD-btpa1slmlMGMWtqC3TpzuIUU'}, {'slug': 'jeremy-anderson', 'first_name': 'Jeremy', 'last_name': 'Anderson', 'title': 'PoW software engineer at Veil - Developer at Ravencoin & PIVX', 'description': None, 'avatar_url': 'https://veil-project.com/uploads/team/blondfrogs.jpg'}]\n",
      "profile_contributors_organizations                                                                                             []\n",
      "profile_economics_consensus_and_emission_consensus_block_reward                                                                5000\n",
      "profile_economics_consensus_and_emission_consensus_consensus_details\n",
      "profile_economics_consensus_and_emission_consensus_general_consensus_mechanism                                                 Proof-of-Work\n",
      "profile_economics_consensus_and_emission_consensus_is_victim_of_51_percent_attack                                              False\n",
      "profile_economics_consensus_and_emission_consensus_mining_algorithm                                                            X16R\n",
      "profile_economics_consensus_and_emission_consensus_next_halving_date                                                           2022-01-01T09:00:00Z\n",
      "profile_economics_consensus_and_emission_consensus_precise_consensus_mechanism\n",
      "profile_economics_consensus_and_emission_consensus_targeted_block_time                                                         60\n",
      "profile_economics_consensus_and_emission_supply_general_emission_type                                                          Inflationary\n",
      "profile_economics_consensus_and_emission_supply_is_capped_supply                                                               True\n",
      "profile_economics_consensus_and_emission_supply_max_supply                                                                     21000000000\n",
      "profile_economics_consensus_and_emission_supply_precise_emission_type                                                          Decreasing Issuance\n",
      "profile_economics_consensus_and_emission_supply_supply_curve_details\n",
      "profile_economics_launch_fundraising_projected_use_of_sales_proceeds                                                           []\n",
      "profile_economics_launch_fundraising_sales_documents                                                                           []\n",
      "profile_economics_launch_fundraising_sales_rounds                                                                              []\n",
      "profile_economics_launch_fundraising_sales_treasury_accounts                                                                   []\n",
      "profile_economics_launch_fundraising_treasury_policies\n",
      "profile_economics_launch_general_launch_details                                                                                Ravencoin launched without a pre-mine, ICO, or founder reward in a similar manner to Bitcoin.\n",
      "profile_economics_launch_general_launch_style                                                                                  Fair Launch\n",
      "profile_economics_launch_initial_distribution_genesis_block_date                                                               2018-01-03T09:00:00Z\n",
      "profile_economics_launch_initial_distribution_initial_supply                                                                   0\n",
      "profile_economics_launch_initial_distribution_initial_supply_repartition_allocated_to_investors_percentage\n",
      "profile_economics_launch_initial_distribution_initial_supply_repartition_allocated_to_organization_or_founders_percentage\n",
      "profile_economics_launch_initial_distribution_initial_supply_repartition_allocated_to_premined_rewards_or_airdrops_percentage\n",
      "profile_economics_launch_initial_distribution_token_distribution_date\n",
      "profile_economics_native_treasury_accounts                                                                                     []\n",
      "profile_economics_native_treasury_treasury_usage_details\n",
      "profile_economics_token_block_explorers                                                                                        [{'name': 'Block Explorer', 'link': 'https://ravencoin.network/'}]\n",
      "profile_economics_token_multitoken                                                                                             []\n",
      "profile_economics_token_token_address\n",
      "profile_economics_token_token_name                                                                                             Ravencoin\n",
      "profile_economics_token_token_type                                                                                             Native\n",
      "profile_economics_token_token_usage                                                                                            Payments\n",
      "profile_economics_token_token_usage_details                                                                                    Tokens on the Ravencoin protocol will be used to facilitate the issuance of unique assets and transfer. Assets or tokens can be used for anything the creator wants them to be. Some examples include, but not limited to, land deeds, car ownership, energy credits, securities, partnership interests, virtual goods, airline miles, etc. Payments, or rewards, can be done through the native token, RVN.\n",
      "profile_ecosystem_assets                                                                                                       []\n",
      "profile_ecosystem_organizations                                                                                                []\n",
      "profile_general_background_background_details                                                                                  Ravencoin was created with the intention of being able to transfer unique assets to one another in a simplified manner. Although with Bitcoin, being able to transfer assets/information through an actual transfer of Bitcoin is permitted, existing Bitcoin nodes are unaware that assets are embedded in the message. This also means that actual Bitcoin must be sent for every asset transaction and there could be cases where the receiving party is unaware of the asset. This makes the asset susceptible to the receiving party accidentally sending those Bitcoins to another wallet and ultimately end up losing those assets. Ethereum, on the other hand, does allow the transfer of assets but is unable to differentiate between assets of the same unique name. Ravencoin's intention is to create a bitcoin-like system that is fully asset aware.\n",
      "profile_general_background_issuing_organizations                                                                               []\n",
      "profile_general_overview_category                                                                                              Payments\n",
      "profile_general_overview_is_verified                                                                                           False\n",
      "profile_general_overview_official_links                                                                                        [{'name': 'Website', 'link': 'https://ravencoin.org/'}, {'name': 'Medium', 'link': 'https://medium.com/@ravencoin'}, {'name': 'Telegram', 'link': 'https://t.me/RavencoinDev'}, {'name': 'Twitter', 'link': 'https://twitter.com/Ravencoin'}, {'name': 'Node Map', 'link': 'http://www.ravennodes.com/'}]\n",
      "profile_general_overview_project_details                                                                                       Ravencoin is a fork of Bitcoin that focuses on the ability to issue new assets.\n",
      "profile_general_overview_sector                                                                                                Currencies\n",
      "profile_general_overview_tagline                                                                                               Blockchain for issuing assets\n",
      "profile_general_overview_tags\n",
      "profile_general_regulation_regulatory_details\n",
      "profile_general_regulation_sfar_score\n",
      "profile_general_regulation_sfar_summary\n",
      "profile_general_roadmap                                                                                                        [{'title': 'Project announced', 'date': '2017-10-31T04:00:00Z', 'type': None, 'details': None}, {'title': 'Phase 1 - Ravencoin launch ', 'date': '2018-01-31T05:00:00Z', 'type': None, 'details': None}, {'title': 'Phase 2 - Assets, sub-assets & unique assets', 'date': '2018-11-05T05:00:00Z', 'type': None, 'details': None}, {'title': 'Upgrade 2.4', 'date': '2019-07-09T04:00:00Z', 'type': None, 'details': 'Fix reported bugs'}, {'title': 'Hard Fork and upgrade 2.5', 'date': '2019-10-01T04:00:00Z', 'type': None, 'details': 'In a response that ASICS were forming on the network, RVN forked to switch to the new x16rV2 algorithm with the original protocol now called Ravencoin Classic.'}, {'title': 'Phase 3 - Dividends/Rewards', 'date': '2019-12-31T05:00:00Z', 'type': None, 'details': None}, {'title': 'Phase 5 - Messaging, OIP, and restricted assets', 'date': '2019-12-31T05:00:00Z', 'type': None, 'details': None}, {'title': 'Phase 6 - Voting', 'date': '2020-06-30T04:00:00Z', 'type': None, 'details': None}, {'title': 'Phase 7 - Compatible Mode ', 'date': None, 'type': None, 'details': None}]\n",
      "profile_governance_governance_details                                                                                          The Ravencoin protocol utilizes the BIP9 consensus rules for governance in situations where forks may occur or upgrades are needed.\n",
      "profile_governance_grants                                                                                                      []\n",
      "profile_governance_onchain_governance_is_treasury_decentralized                                                                False\n",
      "profile_governance_onchain_governance_onchain_governance_details\n",
      "profile_governance_onchain_governance_onchain_governance_type                                                                  No On-Chain Governance\n",
      "profile_investors_individuals                                                                                                  []\n",
      "profile_investors_organizations                                                                                                [{'slug': 'medici-ventures', 'name': 'Medici Ventures', 'logo': None, 'description': 'Launched in 2014, Medici Ventures is a wholly owned subsidiary of Overstock.com, Inc., created to manage and oversee the company’s investments in firms building solutions leveraging and servicing blockchain technologies. Medici Ventures has a growing portfolio of groundbreaking new companies and tech businesses.'}, {'slug': 'digital-asset-capital-management', 'name': 'Digital Asset Capital Management', 'logo': 'https://messari.s3.amazonaws.com/images/agora-images/i5pJWDYb_400x400.jpg', 'description': None}]\n",
      "profile_metadata_updated_at                                                                                                    2021-07-13T02:15:27Z\n",
      "profile_technology_overview_client_repositories                                                                                [{'name': 'GitHub', 'link': 'https://github.com/RavenProject/Ravencoin', 'license_type': 'MIT'}]\n",
      "profile_technology_overview_technology_details                                                                                 Ravencoin is an experimental digital currency that enables instant payments to anyone, anywhere in the world. Ravencoin uses peer-to-peer technology to operate with no central authority: managing transactions and issuing money are carried out collectively by the network.\n",
      "profile_technology_security_audits                                                                                             []\n",
      "profile_technology_security_known_exploits_and_vulnerabilities                                                                 []\n",
      "slug                                                                                                                           ravencoin\n",
      "symbol                                                                                                                         RVN\n"
     ]
    }
   ],
   "source": [
    "asset_profile_data = messari.get_asset_profile(asset_slugs=assets)\n",
    "profile=pd.DataFrame.from_dict(asset_profile_data, orient='columns')\n",
    "print(tabulate(profile, headers='keys'))"
   ]
  },
  {
   "cell_type": "markdown",
   "metadata": {},
   "source": [
    "### Selected Profiles\n",
    "\n",
    "To hone in on a particular profile parameter, use the following.  The available parameters are:\n",
    "\n",
    "- general\n",
    "- contributors\n",
    "- advisors\n",
    "- investors\n",
    "- ecosystem\n",
    "- economics\n",
    "- technology\n",
    "- governance\n",
    "- metadata"
   ]
  },
  {
   "cell_type": "code",
   "execution_count": 26,
   "metadata": {
    "collapsed": true
   },
   "outputs": [
    {
     "name": "stdout",
     "output_type": "stream",
     "text": [
      "                             ravencoin\n",
      "---------------------------  ------------------------------------\n",
      "id                           e36183a0-816a-44c0-8787-9c5912e3beb7\n",
      "profile_metadata_updated_at  2021-07-13T02:15:27Z\n",
      "slug                         ravencoin\n"
     ]
    }
   ],
   "source": [
    "profile_metric = 'metadata'\n",
    "governance_data = messari.get_asset_profile(asset_slugs=assets, asset_profile_metric=profile_metric)\n",
    "governance=pd.DataFrame.from_dict(governance_data, orient='columns')\n",
    "print(tabulate(governance, headers='keys'))"
   ]
  },
  {
   "cell_type": "markdown",
   "metadata": {},
   "source": [
    "### General Asset Metrics"
   ]
  },
  {
   "cell_type": "code",
   "execution_count": 27,
   "metadata": {},
   "outputs": [
    {
     "data": {
      "text/html": [
       "<div>\n",
       "<style scoped>\n",
       "    .dataframe tbody tr th:only-of-type {\n",
       "        vertical-align: middle;\n",
       "    }\n",
       "\n",
       "    .dataframe tbody tr th {\n",
       "        vertical-align: top;\n",
       "    }\n",
       "\n",
       "    .dataframe thead th {\n",
       "        text-align: right;\n",
       "    }\n",
       "</style>\n",
       "<table border=\"1\" class=\"dataframe\">\n",
       "  <thead>\n",
       "    <tr style=\"text-align: right;\">\n",
       "      <th></th>\n",
       "      <th>id</th>\n",
       "      <th>symbol</th>\n",
       "      <th>name</th>\n",
       "      <th>slug</th>\n",
       "      <th>contract_addresses</th>\n",
       "      <th>_internal_temp_agora_id</th>\n",
       "      <th>market_data_price_usd</th>\n",
       "      <th>market_data_price_btc</th>\n",
       "      <th>market_data_price_eth</th>\n",
       "      <th>market_data_volume_last_24_hours</th>\n",
       "      <th>...</th>\n",
       "      <th>supply_distribution_supply_in_addresses_balance_greater_1_native_units</th>\n",
       "      <th>supply_distribution_supply_in_contracts_usd</th>\n",
       "      <th>supply_distribution_supply_in_contracts_native_units</th>\n",
       "      <th>supply_distribution_supply_shielded</th>\n",
       "      <th>supply_distribution_supply_in_top_100_addresses</th>\n",
       "      <th>supply_distribution_supply_in_top_10_percent_addresses</th>\n",
       "      <th>supply_distribution_supply_in_top_1_percent_addresses</th>\n",
       "      <th>supply_distribution_supply_in_utxo_in_loss</th>\n",
       "      <th>supply_distribution_supply_in_utxo_in_profit</th>\n",
       "      <th>alert_messages</th>\n",
       "    </tr>\n",
       "  </thead>\n",
       "  <tbody>\n",
       "    <tr>\n",
       "      <td>ravencoin</td>\n",
       "      <td>e36183a0-816a-44c0-8787-9c5912e3beb7</td>\n",
       "      <td>RVN</td>\n",
       "      <td>Ravencoin</td>\n",
       "      <td>ravencoin</td>\n",
       "      <td>None</td>\n",
       "      <td>7b8b1f29-fa22-4cfe-8101-a57e28398146</td>\n",
       "      <td>0.088491</td>\n",
       "      <td>0.000002</td>\n",
       "      <td>0.000021</td>\n",
       "      <td>2.244261e+07</td>\n",
       "      <td>...</td>\n",
       "      <td>None</td>\n",
       "      <td>None</td>\n",
       "      <td>None</td>\n",
       "      <td>None</td>\n",
       "      <td>None</td>\n",
       "      <td>None</td>\n",
       "      <td>None</td>\n",
       "      <td>None</td>\n",
       "      <td>None</td>\n",
       "      <td>None</td>\n",
       "    </tr>\n",
       "  </tbody>\n",
       "</table>\n",
       "<p>1 rows × 375 columns</p>\n",
       "</div>"
      ],
      "text/plain": [
       "                                             id symbol       name       slug  \\\n",
       "ravencoin  e36183a0-816a-44c0-8787-9c5912e3beb7    RVN  Ravencoin  ravencoin   \n",
       "\n",
       "          contract_addresses               _internal_temp_agora_id  \\\n",
       "ravencoin               None  7b8b1f29-fa22-4cfe-8101-a57e28398146   \n",
       "\n",
       "           market_data_price_usd  market_data_price_btc  \\\n",
       "ravencoin               0.088491               0.000002   \n",
       "\n",
       "           market_data_price_eth  market_data_volume_last_24_hours  ...  \\\n",
       "ravencoin               0.000021                      2.244261e+07  ...   \n",
       "\n",
       "           supply_distribution_supply_in_addresses_balance_greater_1_native_units  \\\n",
       "ravencoin                                               None                        \n",
       "\n",
       "           supply_distribution_supply_in_contracts_usd  \\\n",
       "ravencoin                                         None   \n",
       "\n",
       "           supply_distribution_supply_in_contracts_native_units  \\\n",
       "ravencoin                                               None      \n",
       "\n",
       "           supply_distribution_supply_shielded  \\\n",
       "ravencoin                                 None   \n",
       "\n",
       "           supply_distribution_supply_in_top_100_addresses  \\\n",
       "ravencoin                                             None   \n",
       "\n",
       "           supply_distribution_supply_in_top_10_percent_addresses  \\\n",
       "ravencoin                                               None        \n",
       "\n",
       "           supply_distribution_supply_in_top_1_percent_addresses  \\\n",
       "ravencoin                                               None       \n",
       "\n",
       "           supply_distribution_supply_in_utxo_in_loss  \\\n",
       "ravencoin                                        None   \n",
       "\n",
       "           supply_distribution_supply_in_utxo_in_profit  alert_messages  \n",
       "ravencoin                                          None            None  \n",
       "\n",
       "[1 rows x 375 columns]"
      ]
     },
     "execution_count": 27,
     "metadata": {},
     "output_type": "execute_result"
    }
   ],
   "source": [
    "asset_metric_df = messari.get_asset_metrics(asset_slugs=assets)\n",
    "asset_metric_df.head()"
   ]
  },
  {
   "cell_type": "markdown",
   "metadata": {},
   "source": [
    "### Selected Asset Metrics\n",
    "\n",
    "To hone in on a specific metric, use the following.  The available parmaters are:\n",
    "\n",
    "- market_data\n",
    "- marketcap\n",
    "- supply\n",
    "- blockchain_stats_24_hours\n",
    "- market_data_liquidity\n",
    "- all_time_high\n",
    "- cycle_low\n",
    "- token_sale_stats\n",
    "- staking_stats\n",
    "- mining_stats\n",
    "- developer_activity\n",
    "- roi_data\n",
    "- roi_by_year\n",
    "- risk_metrics\n",
    "- misc_data\n",
    "- lend_rates\n",
    "- borrow_rates\n",
    "- loan_data\n",
    "- reddit\n",
    "- on_chain_data\n",
    "- exchange_flows\n",
    "- alert_messages"
   ]
  },
  {
   "cell_type": "code",
   "execution_count": 29,
   "metadata": {},
   "outputs": [
    {
     "data": {
      "text/html": [
       "<div>\n",
       "<style scoped>\n",
       "    .dataframe tbody tr th:only-of-type {\n",
       "        vertical-align: middle;\n",
       "    }\n",
       "\n",
       "    .dataframe tbody tr th {\n",
       "        vertical-align: top;\n",
       "    }\n",
       "\n",
       "    .dataframe thead th {\n",
       "        text-align: right;\n",
       "    }\n",
       "</style>\n",
       "<table border=\"1\" class=\"dataframe\">\n",
       "  <thead>\n",
       "    <tr style=\"text-align: right;\">\n",
       "      <th></th>\n",
       "      <th>id</th>\n",
       "      <th>symbol</th>\n",
       "      <th>marketcap_rank</th>\n",
       "      <th>marketcap_marketcap_dominance_percent</th>\n",
       "      <th>marketcap_current_marketcap_usd</th>\n",
       "      <th>marketcap_y_2050_marketcap_usd</th>\n",
       "      <th>marketcap_y_plus10_marketcap_usd</th>\n",
       "      <th>marketcap_liquid_marketcap_usd</th>\n",
       "      <th>marketcap_volume_turnover_last_24_hours_percent</th>\n",
       "      <th>marketcap_realized_marketcap_usd</th>\n",
       "      <th>marketcap_outstanding_marketcap_usd</th>\n",
       "    </tr>\n",
       "  </thead>\n",
       "  <tbody>\n",
       "    <tr>\n",
       "      <td>ravencoin</td>\n",
       "      <td>e36183a0-816a-44c0-8787-9c5912e3beb7</td>\n",
       "      <td>RVN</td>\n",
       "      <td>99</td>\n",
       "      <td>0.039363</td>\n",
       "      <td>9.062562e+08</td>\n",
       "      <td>1.842429e+09</td>\n",
       "      <td>1.673382e+09</td>\n",
       "      <td>9.058141e+08</td>\n",
       "      <td>2.861395</td>\n",
       "      <td>None</td>\n",
       "      <td>None</td>\n",
       "    </tr>\n",
       "  </tbody>\n",
       "</table>\n",
       "</div>"
      ],
      "text/plain": [
       "                                             id symbol  marketcap_rank  \\\n",
       "ravencoin  e36183a0-816a-44c0-8787-9c5912e3beb7    RVN              99   \n",
       "\n",
       "           marketcap_marketcap_dominance_percent  \\\n",
       "ravencoin                               0.039363   \n",
       "\n",
       "           marketcap_current_marketcap_usd  marketcap_y_2050_marketcap_usd  \\\n",
       "ravencoin                     9.062562e+08                    1.842429e+09   \n",
       "\n",
       "           marketcap_y_plus10_marketcap_usd  marketcap_liquid_marketcap_usd  \\\n",
       "ravencoin                      1.673382e+09                    9.058141e+08   \n",
       "\n",
       "           marketcap_volume_turnover_last_24_hours_percent  \\\n",
       "ravencoin                                         2.861395   \n",
       "\n",
       "          marketcap_realized_marketcap_usd marketcap_outstanding_marketcap_usd  \n",
       "ravencoin                             None                                None  "
      ]
     },
     "execution_count": 29,
     "metadata": {},
     "output_type": "execute_result"
    }
   ],
   "source": [
    "metric = 'marketcap'\n",
    "asset_metric_df_marketcap = messari.get_asset_metrics(asset_slugs=assets, asset_metric=metric)\n",
    "asset_metric_df_marketcap.head()"
   ]
  },
  {
   "cell_type": "markdown",
   "metadata": {},
   "source": [
    "### Market Data\n",
    "\n",
    "Latest market data on selected crypto"
   ]
  },
  {
   "cell_type": "code",
   "execution_count": 30,
   "metadata": {},
   "outputs": [
    {
     "data": {
      "text/html": [
       "<div>\n",
       "<style scoped>\n",
       "    .dataframe tbody tr th:only-of-type {\n",
       "        vertical-align: middle;\n",
       "    }\n",
       "\n",
       "    .dataframe tbody tr th {\n",
       "        vertical-align: top;\n",
       "    }\n",
       "\n",
       "    .dataframe thead th {\n",
       "        text-align: right;\n",
       "    }\n",
       "</style>\n",
       "<table border=\"1\" class=\"dataframe\">\n",
       "  <thead>\n",
       "    <tr style=\"text-align: right;\">\n",
       "      <th></th>\n",
       "      <th>id</th>\n",
       "      <th>symbol</th>\n",
       "      <th>market_data_price_usd</th>\n",
       "      <th>market_data_price_btc</th>\n",
       "      <th>market_data_price_eth</th>\n",
       "      <th>market_data_volume_last_24_hours</th>\n",
       "      <th>market_data_real_volume_last_24_hours</th>\n",
       "      <th>market_data_volume_last_24_hours_overstatement_multiple</th>\n",
       "      <th>market_data_percent_change_usd_last_1_hour</th>\n",
       "      <th>market_data_percent_change_btc_last_1_hour</th>\n",
       "      <th>...</th>\n",
       "      <th>market_data_ohlcv_last_1_hour_high</th>\n",
       "      <th>market_data_ohlcv_last_1_hour_low</th>\n",
       "      <th>market_data_ohlcv_last_1_hour_close</th>\n",
       "      <th>market_data_ohlcv_last_1_hour_volume</th>\n",
       "      <th>market_data_ohlcv_last_24_hour_open</th>\n",
       "      <th>market_data_ohlcv_last_24_hour_high</th>\n",
       "      <th>market_data_ohlcv_last_24_hour_low</th>\n",
       "      <th>market_data_ohlcv_last_24_hour_close</th>\n",
       "      <th>market_data_ohlcv_last_24_hour_volume</th>\n",
       "      <th>market_data_last_trade_at</th>\n",
       "    </tr>\n",
       "  </thead>\n",
       "  <tbody>\n",
       "    <tr>\n",
       "      <td>ravencoin</td>\n",
       "      <td>e36183a0-816a-44c0-8787-9c5912e3beb7</td>\n",
       "      <td>RVN</td>\n",
       "      <td>0.08876</td>\n",
       "      <td>0.000002</td>\n",
       "      <td>0.000021</td>\n",
       "      <td>2.244261e+07</td>\n",
       "      <td>2.591534e+07</td>\n",
       "      <td>0.865997</td>\n",
       "      <td>0.189401</td>\n",
       "      <td>-0.257847</td>\n",
       "      <td>...</td>\n",
       "      <td>0.089158</td>\n",
       "      <td>0.087904</td>\n",
       "      <td>0.088788</td>\n",
       "      <td>1.126642e+06</td>\n",
       "      <td>0.087966</td>\n",
       "      <td>0.092799</td>\n",
       "      <td>0.082455</td>\n",
       "      <td>0.08876</td>\n",
       "      <td>3.208074e+07</td>\n",
       "      <td>2021-12-06T16:58:35.569Z</td>\n",
       "    </tr>\n",
       "  </tbody>\n",
       "</table>\n",
       "<p>1 rows × 25 columns</p>\n",
       "</div>"
      ],
      "text/plain": [
       "                                             id symbol  market_data_price_usd  \\\n",
       "ravencoin  e36183a0-816a-44c0-8787-9c5912e3beb7    RVN                0.08876   \n",
       "\n",
       "           market_data_price_btc  market_data_price_eth  \\\n",
       "ravencoin               0.000002               0.000021   \n",
       "\n",
       "           market_data_volume_last_24_hours  \\\n",
       "ravencoin                      2.244261e+07   \n",
       "\n",
       "           market_data_real_volume_last_24_hours  \\\n",
       "ravencoin                           2.591534e+07   \n",
       "\n",
       "           market_data_volume_last_24_hours_overstatement_multiple  \\\n",
       "ravencoin                                           0.865997         \n",
       "\n",
       "           market_data_percent_change_usd_last_1_hour  \\\n",
       "ravencoin                                    0.189401   \n",
       "\n",
       "           market_data_percent_change_btc_last_1_hour  ...  \\\n",
       "ravencoin                                   -0.257847  ...   \n",
       "\n",
       "           market_data_ohlcv_last_1_hour_high  \\\n",
       "ravencoin                            0.089158   \n",
       "\n",
       "           market_data_ohlcv_last_1_hour_low  \\\n",
       "ravencoin                           0.087904   \n",
       "\n",
       "           market_data_ohlcv_last_1_hour_close  \\\n",
       "ravencoin                             0.088788   \n",
       "\n",
       "           market_data_ohlcv_last_1_hour_volume  \\\n",
       "ravencoin                          1.126642e+06   \n",
       "\n",
       "           market_data_ohlcv_last_24_hour_open  \\\n",
       "ravencoin                             0.087966   \n",
       "\n",
       "           market_data_ohlcv_last_24_hour_high  \\\n",
       "ravencoin                             0.092799   \n",
       "\n",
       "           market_data_ohlcv_last_24_hour_low  \\\n",
       "ravencoin                            0.082455   \n",
       "\n",
       "           market_data_ohlcv_last_24_hour_close  \\\n",
       "ravencoin                               0.08876   \n",
       "\n",
       "           market_data_ohlcv_last_24_hour_volume  market_data_last_trade_at  \n",
       "ravencoin                           3.208074e+07   2021-12-06T16:58:35.569Z  \n",
       "\n",
       "[1 rows x 25 columns]"
      ]
     },
     "execution_count": 30,
     "metadata": {},
     "output_type": "execute_result"
    }
   ],
   "source": [
    "market_data = messari.get_asset_market_data(asset_slugs=assets)\n",
    "market_data.head()"
   ]
  },
  {
   "cell_type": "markdown",
   "metadata": {},
   "source": [
    "### Getting Time Series Data\n",
    "\n",
    "Numerous options for time series data: for additional metrics see https://tinyurl.com/time-series-data.  Start and end "
   ]
  },
  {
   "cell_type": "code",
   "execution_count": 46,
   "metadata": {},
   "outputs": [
    {
     "data": {
      "text/html": [
       "<div>\n",
       "<style scoped>\n",
       "    .dataframe tbody tr th:only-of-type {\n",
       "        vertical-align: middle;\n",
       "    }\n",
       "\n",
       "    .dataframe tbody tr th {\n",
       "        vertical-align: top;\n",
       "    }\n",
       "\n",
       "    .dataframe thead tr th {\n",
       "        text-align: left;\n",
       "    }\n",
       "\n",
       "    .dataframe thead tr:last-of-type th {\n",
       "        text-align: right;\n",
       "    }\n",
       "</style>\n",
       "<table border=\"1\" class=\"dataframe\">\n",
       "  <thead>\n",
       "    <tr>\n",
       "      <th></th>\n",
       "      <th colspan=\"5\" halign=\"left\">ravencoin</th>\n",
       "    </tr>\n",
       "    <tr>\n",
       "      <th></th>\n",
       "      <th>open</th>\n",
       "      <th>high</th>\n",
       "      <th>low</th>\n",
       "      <th>close</th>\n",
       "      <th>volume</th>\n",
       "    </tr>\n",
       "    <tr>\n",
       "      <th>timestamp</th>\n",
       "      <th></th>\n",
       "      <th></th>\n",
       "      <th></th>\n",
       "      <th></th>\n",
       "      <th></th>\n",
       "    </tr>\n",
       "  </thead>\n",
       "  <tbody>\n",
       "    <tr>\n",
       "      <td>2021-05-01</td>\n",
       "      <td>0.171551</td>\n",
       "      <td>0.198789</td>\n",
       "      <td>0.170500</td>\n",
       "      <td>0.184208</td>\n",
       "      <td>2.003769e+08</td>\n",
       "    </tr>\n",
       "    <tr>\n",
       "      <td>2021-05-02</td>\n",
       "      <td>0.184347</td>\n",
       "      <td>0.203844</td>\n",
       "      <td>0.171934</td>\n",
       "      <td>0.188861</td>\n",
       "      <td>2.455634e+08</td>\n",
       "    </tr>\n",
       "    <tr>\n",
       "      <td>2021-05-03</td>\n",
       "      <td>0.188579</td>\n",
       "      <td>0.201149</td>\n",
       "      <td>0.178531</td>\n",
       "      <td>0.183501</td>\n",
       "      <td>9.492181e+07</td>\n",
       "    </tr>\n",
       "    <tr>\n",
       "      <td>2021-05-04</td>\n",
       "      <td>0.183489</td>\n",
       "      <td>0.183971</td>\n",
       "      <td>0.159115</td>\n",
       "      <td>0.160999</td>\n",
       "      <td>1.017374e+08</td>\n",
       "    </tr>\n",
       "    <tr>\n",
       "      <td>2021-05-05</td>\n",
       "      <td>0.160936</td>\n",
       "      <td>0.179203</td>\n",
       "      <td>0.158373</td>\n",
       "      <td>0.175245</td>\n",
       "      <td>9.571906e+07</td>\n",
       "    </tr>\n",
       "    <tr>\n",
       "      <td>...</td>\n",
       "      <td>...</td>\n",
       "      <td>...</td>\n",
       "      <td>...</td>\n",
       "      <td>...</td>\n",
       "      <td>...</td>\n",
       "    </tr>\n",
       "    <tr>\n",
       "      <td>2021-12-02</td>\n",
       "      <td>0.107285</td>\n",
       "      <td>0.107758</td>\n",
       "      <td>0.102793</td>\n",
       "      <td>0.106022</td>\n",
       "      <td>2.048652e+07</td>\n",
       "    </tr>\n",
       "    <tr>\n",
       "      <td>2021-12-03</td>\n",
       "      <td>0.105968</td>\n",
       "      <td>0.117554</td>\n",
       "      <td>0.102829</td>\n",
       "      <td>0.105310</td>\n",
       "      <td>6.308613e+07</td>\n",
       "    </tr>\n",
       "    <tr>\n",
       "      <td>2021-12-04</td>\n",
       "      <td>0.105199</td>\n",
       "      <td>0.105415</td>\n",
       "      <td>0.065349</td>\n",
       "      <td>0.092472</td>\n",
       "      <td>6.823736e+07</td>\n",
       "    </tr>\n",
       "    <tr>\n",
       "      <td>2021-12-05</td>\n",
       "      <td>0.092521</td>\n",
       "      <td>0.094942</td>\n",
       "      <td>0.084533</td>\n",
       "      <td>0.089564</td>\n",
       "      <td>2.789493e+07</td>\n",
       "    </tr>\n",
       "    <tr>\n",
       "      <td>2021-12-06</td>\n",
       "      <td>0.089399</td>\n",
       "      <td>0.092722</td>\n",
       "      <td>0.082491</td>\n",
       "      <td>0.088729</td>\n",
       "      <td>2.483022e+07</td>\n",
       "    </tr>\n",
       "  </tbody>\n",
       "</table>\n",
       "<p>220 rows × 5 columns</p>\n",
       "</div>"
      ],
      "text/plain": [
       "           ravencoin                                            \n",
       "                open      high       low     close        volume\n",
       "timestamp                                                       \n",
       "2021-05-01  0.171551  0.198789  0.170500  0.184208  2.003769e+08\n",
       "2021-05-02  0.184347  0.203844  0.171934  0.188861  2.455634e+08\n",
       "2021-05-03  0.188579  0.201149  0.178531  0.183501  9.492181e+07\n",
       "2021-05-04  0.183489  0.183971  0.159115  0.160999  1.017374e+08\n",
       "2021-05-05  0.160936  0.179203  0.158373  0.175245  9.571906e+07\n",
       "...              ...       ...       ...       ...           ...\n",
       "2021-12-02  0.107285  0.107758  0.102793  0.106022  2.048652e+07\n",
       "2021-12-03  0.105968  0.117554  0.102829  0.105310  6.308613e+07\n",
       "2021-12-04  0.105199  0.105415  0.065349  0.092472  6.823736e+07\n",
       "2021-12-05  0.092521  0.094942  0.084533  0.089564  2.789493e+07\n",
       "2021-12-06  0.089399  0.092722  0.082491  0.088729  2.483022e+07\n",
       "\n",
       "[220 rows x 5 columns]"
      ]
     },
     "execution_count": 46,
     "metadata": {},
     "output_type": "execute_result"
    }
   ],
   "source": [
    "metric = 'price'\n",
    "start = '2021-05-01'\n",
    "end='2021-12-06'\n",
    "timeseries_df = messari.get_metric_timeseries(asset_slugs=assets, asset_metric=metric, start=start, end=end)\n",
    "timeseries_df"
   ]
  },
  {
   "cell_type": "code",
   "execution_count": 47,
   "metadata": {},
   "outputs": [
    {
     "data": {
      "text/plain": [
       "['ravencoin-open',\n",
       " 'ravencoin-high',\n",
       " 'ravencoin-low',\n",
       " 'ravencoin-close',\n",
       " 'ravencoin-volume']"
      ]
     },
     "execution_count": 47,
     "metadata": {},
     "output_type": "execute_result"
    }
   ],
   "source": [
    "#column label wrangling for visualizations\n",
    "timeseries_df.columns=timeseries_df.columns.map('-'.join).str.strip('-')\n",
    "list(timeseries_df.columns)"
   ]
  },
  {
   "cell_type": "code",
   "execution_count": 48,
   "metadata": {},
   "outputs": [
    {
     "data": {
      "image/png": "[encoded data removed]",
      "text/plain": [
       "<Figure size 1008x504 with 2 Axes>"
      ]
     },
     "metadata": {},
     "output_type": "display_data"
    }
   ],
   "source": [
    "#Quick plot of price and volume\n",
    "import matplotlib.pyplot as plt\n",
    "plt.style.use('fivethirtyeight')\n",
    "fig, (ax1, ax2) = plt.subplots(nrows=2, sharex=True, figsize=(14, 7), gridspec_kw = {'height_ratios':[3, 1]})\n",
    "timeseries_df['ravencoin-open'].plot(ax=ax1)\n",
    "ax1.set_xlabel('Date')\n",
    "ax1.set_ylabel('Price')\n",
    "\n",
    "timeseries_df['ravencoin-volume'].plot(ax=ax2, color='purple')\n",
    "ax2.set_ylabel('Volume')\n",
    "\n",
    "fig.tight_layout()"
   ]
  },
  {
   "cell_type": "markdown",
   "metadata": {},
   "source": [
    "### Daily Sharpe Ratio\n"
   ]
  },
  {
   "cell_type": "code",
   "execution_count": 53,
   "metadata": {},
   "outputs": [
    {
     "data": {
      "text/html": [
       "<div>\n",
       "<style scoped>\n",
       "    .dataframe tbody tr th:only-of-type {\n",
       "        vertical-align: middle;\n",
       "    }\n",
       "\n",
       "    .dataframe tbody tr th {\n",
       "        vertical-align: top;\n",
       "    }\n",
       "\n",
       "    .dataframe thead th {\n",
       "        text-align: right;\n",
       "    }\n",
       "</style>\n",
       "<table border=\"1\" class=\"dataframe\">\n",
       "  <thead>\n",
       "    <tr style=\"text-align: right;\">\n",
       "      <th></th>\n",
       "      <th>ravencoin</th>\n",
       "    </tr>\n",
       "    <tr>\n",
       "      <th>timestamp</th>\n",
       "      <th></th>\n",
       "    </tr>\n",
       "  </thead>\n",
       "  <tbody>\n",
       "    <tr>\n",
       "      <td>2021-05-01</td>\n",
       "      <td>0.556379</td>\n",
       "    </tr>\n",
       "    <tr>\n",
       "      <td>2021-05-02</td>\n",
       "      <td>0.590294</td>\n",
       "    </tr>\n",
       "    <tr>\n",
       "      <td>2021-05-03</td>\n",
       "      <td>0.377309</td>\n",
       "    </tr>\n",
       "    <tr>\n",
       "      <td>2021-05-04</td>\n",
       "      <td>-0.145174</td>\n",
       "    </tr>\n",
       "    <tr>\n",
       "      <td>2021-05-05</td>\n",
       "      <td>0.321281</td>\n",
       "    </tr>\n",
       "    <tr>\n",
       "      <td>...</td>\n",
       "      <td>...</td>\n",
       "    </tr>\n",
       "    <tr>\n",
       "      <td>2021-11-28</td>\n",
       "      <td>-0.191247</td>\n",
       "    </tr>\n",
       "    <tr>\n",
       "      <td>2021-11-29</td>\n",
       "      <td>0.227537</td>\n",
       "    </tr>\n",
       "    <tr>\n",
       "      <td>2021-11-30</td>\n",
       "      <td>-0.316232</td>\n",
       "    </tr>\n",
       "    <tr>\n",
       "      <td>2021-12-01</td>\n",
       "      <td>-0.856401</td>\n",
       "    </tr>\n",
       "    <tr>\n",
       "      <td>2021-12-02</td>\n",
       "      <td>-1.379507</td>\n",
       "    </tr>\n",
       "  </tbody>\n",
       "</table>\n",
       "<p>216 rows × 1 columns</p>\n",
       "</div>"
      ],
      "text/plain": [
       "            ravencoin\n",
       "timestamp            \n",
       "2021-05-01   0.556379\n",
       "2021-05-02   0.590294\n",
       "2021-05-03   0.377309\n",
       "2021-05-04  -0.145174\n",
       "2021-05-05   0.321281\n",
       "...               ...\n",
       "2021-11-28  -0.191247\n",
       "2021-11-29   0.227537\n",
       "2021-11-30  -0.316232\n",
       "2021-12-01  -0.856401\n",
       "2021-12-02  -1.379507\n",
       "\n",
       "[216 rows x 1 columns]"
      ]
     },
     "execution_count": 53,
     "metadata": {},
     "output_type": "execute_result"
    }
   ],
   "source": [
    "metric = 'daily.shp'\n",
    "start = '2021-05-01'\n",
    "end='2021-12-06'\n",
    "sharpe = messari.get_metric_timeseries(asset_slugs=assets, asset_metric=metric, start=start, end=end)\n",
    "sharpe"
   ]
  },
  {
   "cell_type": "code",
   "execution_count": 57,
   "metadata": {},
   "outputs": [
    {
     "data": {
      "text/plain": [
       "<matplotlib.axes._subplots.AxesSubplot at 0x14073eedcc8>"
      ]
     },
     "execution_count": 57,
     "metadata": {},
     "output_type": "execute_result"
    },
    {
     "data": {
      "image/png": "[encoded data removed]",
      "text/plain": [
       "<Figure size 432x288 with 1 Axes>"
      ]
     },
     "metadata": {},
     "output_type": "display_data"
    }
   ],
   "source": [
    "#Quick visualization\n",
    "sharpe.plot()"
   ]
  },
  {
   "cell_type": "code",
   "execution_count": null,
   "metadata": {},
   "outputs": [],
   "source": [
    "#Using fivethirtyeight style\n",
    "import matplotlib.pyplot as plt\n",
    "plt.style.use('fivethirtyeight')\n",
    "my_crypto = df1\n",
    "plt.figure(figsize = (12.2, 4.5))\n",
    "for c in my_crypto.columns.values:\n",
    "   plt.plot(my_crypto[c], label = c)\n",
    "plt.title('DOGE VS SHIB')\n",
    "plt.xlabel('Days')\n",
    "plt.ylabel(' Crypto Price ($)')\n",
    "plt.legend(my_crypto.columns.values, loc= 'upper left')\n",
    "plt.show()"
   ]
  },
  {
   "cell_type": "code",
   "execution_count": null,
   "metadata": {},
   "outputs": [],
   "source": [
    "#Scale the data\n",
    "#the min-max scaler method scales the dataset so that all the input features lie between 0 and 100 inclusive\n",
    "from sklearn import preprocessing\n",
    "min_max_scaler = preprocessing.MinMaxScaler(feature_range=(0, 100))\n",
    "scaled = min_max_scaler.fit_transform(df1)\n",
    "scaled"
   ]
  },
  {
   "cell_type": "code",
   "execution_count": null,
   "metadata": {},
   "outputs": [],
   "source": [
    "df1_scale = pd.DataFrame(scaled, columns = df1.columns)"
   ]
  },
  {
   "cell_type": "code",
   "execution_count": null,
   "metadata": {},
   "outputs": [],
   "source": [
    "#Visualize the scaled data\n",
    "my_crypto = df1_scale\n",
    "plt.figure(figsize=(12.4, 4.5))\n",
    "for c in my_crypto.columns.values:\n",
    "   plt.plot(my_crypto[c], label=c)\n",
    "plt.title('DOGE VS SHIB (Scaled Graph)')\n",
    "plt.xlabel('Days')\n",
    "plt.ylabel('Crypto Scaled Price ($)')\n",
    "plt.legend(my_crypto.columns.values, loc = 'upper left')\n",
    "plt.show()"
   ]
  },
  {
   "cell_type": "code",
   "execution_count": null,
   "metadata": {},
   "outputs": [],
   "source": [
    "DSR = df1.pct_change(1)\n",
    "DSR"
   ]
  },
  {
   "cell_type": "code",
   "execution_count": null,
   "metadata": {},
   "outputs": [],
   "source": [
    "plt.figure(figsize=(12, 4.5))\n",
    "for c in DSR.columns.values:\n",
    "   plt.plot(DSR.index, DSR[c], label = c, lw = 2, alpha = .7)\n",
    "plt.title('DOGE VS SHIB - Daily Simple Returns')\n",
    "plt.ylabel('Percentage (in decimal form')\n",
    "plt.xlabel('Days')\n",
    "plt.legend(DSR.columns.values, loc= 'upper right')\n",
    "plt.show()"
   ]
  },
  {
   "cell_type": "markdown",
   "metadata": {},
   "source": [
    "### Moving On\n",
    "\n",
    "Data seems just as easy to get as other APIs, so no need for additional analyses of price and/or volume.  Let's explore some of the other endpoints.  For this, I'll follow the article by Bybit Learn on fundamental analysis (https://learn.bybit.com/investing/how-to-analyze-a-cryptocurrency-using-fundamental-analysis/)\n",
    "\n",
    "However, the move to Proof of Stake (PoS) would seem to make analysis of hashrates outdated (or at least will in the future).  "
   ]
  },
  {
   "cell_type": "markdown",
   "metadata": {},
   "source": [
    "#### Hashrate\n",
    "SHIB is not a mineable token, so comparing hashrates is not possible.  But let's look at DOGE and compare hashrates to price."
   ]
  },
  {
   "cell_type": "code",
   "execution_count": 49,
   "metadata": {},
   "outputs": [
    {
     "name": "stderr",
     "output_type": "stream",
     "text": [
      "WARNING:root:Missing timeseries data for ravencoin\n"
     ]
    },
    {
     "ename": "ValueError",
     "evalue": "No objects to concatenate",
     "output_type": "error",
     "traceback": [
      "\u001b[1;31m---------------------------------------------------------------------------\u001b[0m",
      "\u001b[1;31mValueError\u001b[0m                                Traceback (most recent call last)",
      "\u001b[1;32m<ipython-input-49-3a36edace11b>\u001b[0m in \u001b[0;36m<module>\u001b[1;34m\u001b[0m\n\u001b[0;32m      2\u001b[0m \u001b[0mstart\u001b[0m \u001b[1;33m=\u001b[0m \u001b[1;34m'2021-05-01'\u001b[0m\u001b[1;33m\u001b[0m\u001b[1;33m\u001b[0m\u001b[0m\n\u001b[0;32m      3\u001b[0m \u001b[0mend\u001b[0m \u001b[1;33m=\u001b[0m \u001b[1;34m'2021-12-01'\u001b[0m\u001b[1;33m\u001b[0m\u001b[1;33m\u001b[0m\u001b[0m\n\u001b[1;32m----> 4\u001b[1;33m \u001b[0mtimeseries_df\u001b[0m \u001b[1;33m=\u001b[0m \u001b[0mmessari\u001b[0m\u001b[1;33m.\u001b[0m\u001b[0mget_metric_timeseries\u001b[0m\u001b[1;33m(\u001b[0m\u001b[0masset_slugs\u001b[0m\u001b[1;33m=\u001b[0m\u001b[0massets\u001b[0m\u001b[1;33m,\u001b[0m \u001b[0masset_metric\u001b[0m\u001b[1;33m=\u001b[0m\u001b[0mmetric\u001b[0m\u001b[1;33m,\u001b[0m \u001b[0mstart\u001b[0m\u001b[1;33m=\u001b[0m\u001b[0mstart\u001b[0m\u001b[1;33m,\u001b[0m \u001b[0mend\u001b[0m\u001b[1;33m=\u001b[0m\u001b[0mend\u001b[0m\u001b[1;33m)\u001b[0m\u001b[1;33m\u001b[0m\u001b[1;33m\u001b[0m\u001b[0m\n\u001b[0m\u001b[0;32m      5\u001b[0m \u001b[0mtimeseries_df\u001b[0m\u001b[1;33m.\u001b[0m\u001b[0mhead\u001b[0m\u001b[1;33m(\u001b[0m\u001b[1;36m3\u001b[0m\u001b[1;33m)\u001b[0m\u001b[1;33m\u001b[0m\u001b[1;33m\u001b[0m\u001b[0m\n",
      "\u001b[1;32m~\\Anaconda3\\lib\\site-packages\\messari\\messari\\messari.py\u001b[0m in \u001b[0;36mget_metric_timeseries\u001b[1;34m(self, asset_slugs, asset_metric, start, end, interval, to_dataframe)\u001b[0m\n\u001b[0;32m    544\u001b[0m             \u001b[0mresponse_data\u001b[0m\u001b[1;33m[\u001b[0m\u001b[0masset\u001b[0m\u001b[1;33m]\u001b[0m \u001b[1;33m=\u001b[0m \u001b[0mresponse_flat\u001b[0m\u001b[1;33m\u001b[0m\u001b[1;33m\u001b[0m\u001b[0m\n\u001b[0;32m    545\u001b[0m         \u001b[1;32mif\u001b[0m \u001b[0mto_dataframe\u001b[0m\u001b[1;33m:\u001b[0m\u001b[1;33m\u001b[0m\u001b[1;33m\u001b[0m\u001b[0m\n\u001b[1;32m--> 546\u001b[1;33m             \u001b[0mtimeseries_df\u001b[0m \u001b[1;33m=\u001b[0m \u001b[0mtimeseries_to_dataframe\u001b[0m\u001b[1;33m(\u001b[0m\u001b[0mresponse_data\u001b[0m\u001b[1;33m)\u001b[0m\u001b[1;33m\u001b[0m\u001b[1;33m\u001b[0m\u001b[0m\n\u001b[0m\u001b[0;32m    547\u001b[0m             \u001b[1;32mif\u001b[0m \u001b[0masset_metric\u001b[0m \u001b[1;33m!=\u001b[0m \u001b[1;34m'price'\u001b[0m\u001b[1;33m:\u001b[0m\u001b[1;33m\u001b[0m\u001b[1;33m\u001b[0m\u001b[0m\n\u001b[0;32m    548\u001b[0m                 \u001b[0mcol_name\u001b[0m \u001b[1;33m=\u001b[0m \u001b[0mtimeseries_df\u001b[0m\u001b[1;33m.\u001b[0m\u001b[0mcolumns\u001b[0m\u001b[1;33m[\u001b[0m\u001b[1;36m0\u001b[0m\u001b[1;33m]\u001b[0m\u001b[1;33m[\u001b[0m\u001b[1;36m1\u001b[0m\u001b[1;33m]\u001b[0m\u001b[1;33m\u001b[0m\u001b[1;33m\u001b[0m\u001b[0m\n",
      "\u001b[1;32m~\\Anaconda3\\lib\\site-packages\\messari\\messari\\helpers.py\u001b[0m in \u001b[0;36mtimeseries_to_dataframe\u001b[1;34m(response)\u001b[0m\n\u001b[0;32m     64\u001b[0m             \u001b[1;32mcontinue\u001b[0m\u001b[1;33m\u001b[0m\u001b[1;33m\u001b[0m\u001b[0m\n\u001b[0;32m     65\u001b[0m     \u001b[1;31m# Create multindex DataFrame using list of dataframes & keys\u001b[0m\u001b[1;33m\u001b[0m\u001b[1;33m\u001b[0m\u001b[1;33m\u001b[0m\u001b[0m\n\u001b[1;32m---> 66\u001b[1;33m     \u001b[0mmetric_data_df\u001b[0m \u001b[1;33m=\u001b[0m \u001b[0mpd\u001b[0m\u001b[1;33m.\u001b[0m\u001b[0mconcat\u001b[0m\u001b[1;33m(\u001b[0m\u001b[0mdf_list\u001b[0m\u001b[1;33m,\u001b[0m \u001b[0mkeys\u001b[0m\u001b[1;33m=\u001b[0m\u001b[0mkey_list\u001b[0m\u001b[1;33m,\u001b[0m \u001b[0maxis\u001b[0m\u001b[1;33m=\u001b[0m\u001b[1;36m1\u001b[0m\u001b[1;33m)\u001b[0m\u001b[1;33m\u001b[0m\u001b[1;33m\u001b[0m\u001b[0m\n\u001b[0m\u001b[0;32m     67\u001b[0m     \u001b[1;32mreturn\u001b[0m \u001b[0mmetric_data_df\u001b[0m\u001b[1;33m\u001b[0m\u001b[1;33m\u001b[0m\u001b[0m\n",
      "\u001b[1;32m~\\Anaconda3\\lib\\site-packages\\pandas\\core\\reshape\\concat.py\u001b[0m in \u001b[0;36mconcat\u001b[1;34m(objs, axis, join, join_axes, ignore_index, keys, levels, names, verify_integrity, sort, copy)\u001b[0m\n\u001b[0;32m    253\u001b[0m         \u001b[0mverify_integrity\u001b[0m\u001b[1;33m=\u001b[0m\u001b[0mverify_integrity\u001b[0m\u001b[1;33m,\u001b[0m\u001b[1;33m\u001b[0m\u001b[1;33m\u001b[0m\u001b[0m\n\u001b[0;32m    254\u001b[0m         \u001b[0mcopy\u001b[0m\u001b[1;33m=\u001b[0m\u001b[0mcopy\u001b[0m\u001b[1;33m,\u001b[0m\u001b[1;33m\u001b[0m\u001b[1;33m\u001b[0m\u001b[0m\n\u001b[1;32m--> 255\u001b[1;33m         \u001b[0msort\u001b[0m\u001b[1;33m=\u001b[0m\u001b[0msort\u001b[0m\u001b[1;33m,\u001b[0m\u001b[1;33m\u001b[0m\u001b[1;33m\u001b[0m\u001b[0m\n\u001b[0m\u001b[0;32m    256\u001b[0m     )\n\u001b[0;32m    257\u001b[0m \u001b[1;33m\u001b[0m\u001b[0m\n",
      "\u001b[1;32m~\\Anaconda3\\lib\\site-packages\\pandas\\core\\reshape\\concat.py\u001b[0m in \u001b[0;36m__init__\u001b[1;34m(self, objs, axis, join, join_axes, keys, levels, names, ignore_index, verify_integrity, copy, sort)\u001b[0m\n\u001b[0;32m    302\u001b[0m \u001b[1;33m\u001b[0m\u001b[0m\n\u001b[0;32m    303\u001b[0m         \u001b[1;32mif\u001b[0m \u001b[0mlen\u001b[0m\u001b[1;33m(\u001b[0m\u001b[0mobjs\u001b[0m\u001b[1;33m)\u001b[0m \u001b[1;33m==\u001b[0m \u001b[1;36m0\u001b[0m\u001b[1;33m:\u001b[0m\u001b[1;33m\u001b[0m\u001b[1;33m\u001b[0m\u001b[0m\n\u001b[1;32m--> 304\u001b[1;33m             \u001b[1;32mraise\u001b[0m \u001b[0mValueError\u001b[0m\u001b[1;33m(\u001b[0m\u001b[1;34m\"No objects to concatenate\"\u001b[0m\u001b[1;33m)\u001b[0m\u001b[1;33m\u001b[0m\u001b[1;33m\u001b[0m\u001b[0m\n\u001b[0m\u001b[0;32m    305\u001b[0m \u001b[1;33m\u001b[0m\u001b[0m\n\u001b[0;32m    306\u001b[0m         \u001b[1;32mif\u001b[0m \u001b[0mkeys\u001b[0m \u001b[1;32mis\u001b[0m \u001b[1;32mNone\u001b[0m\u001b[1;33m:\u001b[0m\u001b[1;33m\u001b[0m\u001b[1;33m\u001b[0m\u001b[0m\n",
      "\u001b[1;31mValueError\u001b[0m: No objects to concatenate"
     ]
    }
   ],
   "source": [
    "metric = 'hashrate'\n",
    "start = '2021-05-01'\n",
    "end = '2021-12-01'\n",
    "timeseries_df = messari.get_metric_timeseries(asset_slugs=assets, asset_metric=metric, start=start, end=end)\n",
    "timeseries_df.head(3)"
   ]
  },
  {
   "cell_type": "code",
   "execution_count": null,
   "metadata": {},
   "outputs": [],
   "source": [
    "#Quick plot\n",
    "timeseries_df.plot()"
   ]
  },
  {
   "cell_type": "code",
   "execution_count": null,
   "metadata": {},
   "outputs": [],
   "source": [
    "timeseries_df.head(3)"
   ]
  },
  {
   "cell_type": "code",
   "execution_count": null,
   "metadata": {},
   "outputs": [],
   "source": [
    "dogeprice=df1['dogecoin-close']\n",
    "dogeprice.head(3)"
   ]
  },
  {
   "cell_type": "code",
   "execution_count": null,
   "metadata": {},
   "outputs": [],
   "source": [
    "merged = timeseries_df.join(dogeprice, how='outer')\n",
    "merged"
   ]
  },
  {
   "cell_type": "code",
   "execution_count": null,
   "metadata": {},
   "outputs": [],
   "source": [
    "merged.rename(columns={'dogecoin': 'doge-hashrate'}, inplace=True)"
   ]
  },
  {
   "cell_type": "code",
   "execution_count": null,
   "metadata": {},
   "outputs": [],
   "source": [
    "#Scale the data\n",
    "#the min-max scaler method scales the dataset so that all the input features lie between 0 and 100 inclusive\n",
    "from sklearn import preprocessing\n",
    "min_max_scaler = preprocessing.MinMaxScaler(feature_range=(0, 100))\n",
    "scaled = min_max_scaler.fit_transform(merged)\n",
    "scaled"
   ]
  },
  {
   "cell_type": "code",
   "execution_count": null,
   "metadata": {},
   "outputs": [],
   "source": [
    "merged_scale = pd.DataFrame(scaled, columns = merged.columns)"
   ]
  },
  {
   "cell_type": "code",
   "execution_count": null,
   "metadata": {},
   "outputs": [],
   "source": [
    "#Visualize the scaled data\n",
    "my_crypto = merged_scale\n",
    "plt.figure(figsize=(12.4, 4.5))\n",
    "for c in my_crypto.columns.values:\n",
    "   plt.plot(my_crypto[c], label=c)\n",
    "plt.title('DOGE - Hashrate and Price')\n",
    "plt.xlabel('Days')\n",
    "plt.ylabel('Hashrate to Price')\n",
    "plt.legend(my_crypto.columns.values, loc = 'upper left')\n",
    "plt.show()"
   ]
  },
  {
   "cell_type": "code",
   "execution_count": null,
   "metadata": {},
   "outputs": [],
   "source": []
  },
  {
   "cell_type": "code",
   "execution_count": null,
   "metadata": {},
   "outputs": [],
   "source": []
  },
  {
   "cell_type": "code",
   "execution_count": null,
   "metadata": {},
   "outputs": [],
   "source": []
  },
  {
   "cell_type": "code",
   "execution_count": null,
   "metadata": {},
   "outputs": [],
   "source": []
  },
  {
   "cell_type": "code",
   "execution_count": null,
   "metadata": {},
   "outputs": [],
   "source": []
  }
 ],
 "metadata": {
  "kernelspec": {
   "display_name": "Python 3",
   "language": "python",
   "name": "python3"
  },
  "language_info": {
   "codemirror_mode": {
    "name": "ipython",
    "version": 3
   },
   "file_extension": ".py",
   "mimetype": "text/x-python",
   "name": "python",
   "nbconvert_exporter": "python",
   "pygments_lexer": "ipython3",
   "version": "3.7.4"
  }
 },
 "nbformat": 4,
 "nbformat_minor": 2
}
